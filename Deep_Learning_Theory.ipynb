{
 "cells": [
  {
   "cell_type": "code",
   "execution_count": 3,
   "id": "f14c31f1-ab0d-40f3-a7f6-a654c080e411",
   "metadata": {},
   "outputs": [],
   "source": [
    "\n",
    "# Introduction to Deep Learning\n",
    "# (1). ML Models --- > works well on less complex data , works well on linear data . .\n",
    "# but DL models --- > works well on complex data , and non-linear data .\n",
    "# (2). DL\n",
    "\n",
    "# DL works on Human Neuron system .\n",
    "\n",
    "# Architecture of ML Models --- >\n",
    "# Data Ingestion ---- > Data Cleaning and Preprocessing --- > Select ML Model based on the target\n",
    "# Model training ---- > Model Prediction ---- > Model Accuracy .\n",
    "\n",
    "# # Architecture of DL Models ---- >\n",
    "# # Data Ingestion ---- > Data Cleaning and Preprocessing ---- >\n",
    "# Model Sequential Layer(\n",
    "    #input_layer(neurons , activation_function, input_dimension),\n",
    "    # hidden_layer(neurons , activation_function),\n",
    "    # output_layer(neurons , activation_function)\n",
    "# )\n",
    "# Model.compile(loss_function , optimizers , metrics)\n",
    "# Model.training\n",
    "# Model. Prediction\n",
    "# Model.Accuracy , Loss"
   ]
  },
  {
   "cell_type": "code",
   "execution_count": 5,
   "id": "f90211fc-69df-4821-b674-23628f723bd4",
   "metadata": {},
   "outputs": [],
   "source": [
    "# type of dl Models : : :---- >\n",
    "# (1). ANN(Artifical Neural Networks) --- > for tabular data .\n",
    "# (2). CNN(Convolutional Neural Networks) ---- > for images related data .\n",
    "# (3). RNN(Recurrent Neural Networks)---- > for sequential data ."
   ]
  },
  {
   "cell_type": "code",
   "execution_count": null,
   "id": "7a494cb6-2984-4410-9ec4-65bd3d9f19f5",
   "metadata": {},
   "outputs": [],
   "source": [
    "# Age (x11)\n",
    "                 # (x21)\n",
    "# bmi (x12)                 (x31)------->Model Compile-----> Model Result(charges)\n",
    "                 # (x22)     output layer\n",
    "# children(x13)  Hidden Layer\n",
    "\n",
    "# Input Layer"
   ]
  }
 ],
 "metadata": {
  "kernelspec": {
   "display_name": "Python [conda env:base] *",
   "language": "python",
   "name": "conda-base-py"
  },
  "language_info": {
   "codemirror_mode": {
    "name": "ipython",
    "version": 3
   },
   "file_extension": ".py",
   "mimetype": "text/x-python",
   "name": "python",
   "nbconvert_exporter": "python",
   "pygments_lexer": "ipython3",
   "version": "3.12.3"
  }
 },
 "nbformat": 4,
 "nbformat_minor": 5
}
